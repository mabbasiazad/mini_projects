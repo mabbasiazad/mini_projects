{
 "cells": [
  {
   "cell_type": "code",
   "execution_count": 3,
   "metadata": {},
   "outputs": [],
   "source": [
    "import json\n",
    "import time\n",
    "import textwrap"
   ]
  },
  {
   "cell_type": "code",
   "execution_count": 1,
   "metadata": {},
   "outputs": [
    {
     "name": "stdout",
     "output_type": "stream",
     "text": [
      "Using Azure endpoint: https://summarilyazureopenai.openai.azure.com\n"
     ]
    }
   ],
   "source": [
    "import dotenv\n",
    "dotenv.load_dotenv()\n",
    "from langchain_openai import ChatOpenAI, AzureChatOpenAI\n",
    "\n",
    "llm = AzureChatOpenAI(\n",
    "    max_tokens=16000,\n",
    "    temperature=0.5,\n",
    "    deployment_name=\"gpt-4o-b\",\n",
    "    model_name=\"gpt-4o\",\n",
    "    # deployment_name=\"gpt-35-turbo\",\n",
    "    # model_name=\"gpt-3.5-turbo\",\n",
    ")\n",
    "print(f'Using Azure endpoint: {llm.azure_endpoint}')"
   ]
  },
  {
   "cell_type": "code",
   "execution_count": 2,
   "metadata": {},
   "outputs": [
    {
     "name": "stderr",
     "output_type": "stream",
     "text": [
      "/var/folders/py/lx68lx7s6sbcr2m9kwtspqvh0000gn/T/ipykernel_37982/448596611.py:3: LangChainDeprecationWarning: The method `BaseChatModel.__call__` was deprecated in langchain-core 0.1.7 and will be removed in 1.0. Use :meth:`~invoke` instead.\n",
      "  response = llm(prompt)\n"
     ]
    },
    {
     "name": "stdout",
     "output_type": "stream",
     "text": [
      "My training data cutoff date is **January 2022**. This means my knowledge includes information available up until that time. Let me know if you'd like clarification or assistance with anything!\n"
     ]
    }
   ],
   "source": [
    "# Test if LLM responds OK\n",
    "prompt = \"What is your training data cutoff date?\"\n",
    "response = llm(prompt)\n",
    "print(response.content)"
   ]
  },
  {
   "cell_type": "code",
   "execution_count": 4,
   "metadata": {},
   "outputs": [
    {
     "name": "stdout",
     "output_type": "stream",
     "text": [
      "My training data cutoff date is **January 2022**. This means my\n",
      "knowledge includes information available up until that time. Let me\n",
      "know if you'd like clarification or assistance with anything!\n"
     ]
    }
   ],
   "source": [
    "reply = \"\\n\".join(textwrap.wrap(response.content))\n",
    "print(reply)"
   ]
  },
  {
   "cell_type": "code",
   "execution_count": 5,
   "metadata": {},
   "outputs": [],
   "source": [
    "from langchain.chains import ConversationChain\n",
    "from langchain.memory import ConversationBufferMemory\n"
   ]
  },
  {
   "cell_type": "code",
   "execution_count": 6,
   "metadata": {},
   "outputs": [
    {
     "name": "stderr",
     "output_type": "stream",
     "text": [
      "/var/folders/py/lx68lx7s6sbcr2m9kwtspqvh0000gn/T/ipykernel_37982/2129424381.py:1: LangChainDeprecationWarning: Please see the migration guide at: https://python.langchain.com/docs/versions/migrating_memory/\n",
      "  memory = ConversationBufferMemory()\n",
      "/var/folders/py/lx68lx7s6sbcr2m9kwtspqvh0000gn/T/ipykernel_37982/2129424381.py:2: LangChainDeprecationWarning: The class `ConversationChain` was deprecated in LangChain 0.2.7 and will be removed in 1.0. Use :meth:`~RunnableWithMessageHistory: https://python.langchain.com/v0.2/api_reference/core/runnables/langchain_core.runnables.history.RunnableWithMessageHistory.html` instead.\n",
      "  conversation = ConversationChain(\n"
     ]
    }
   ],
   "source": [
    "memory = ConversationBufferMemory()\n",
    "conversation = ConversationChain(\n",
    "    llm=llm, \n",
    "    memory = memory,\n",
    "    verbose=True\n",
    ")"
   ]
  },
  {
   "cell_type": "code",
   "execution_count": 7,
   "metadata": {},
   "outputs": [
    {
     "name": "stdout",
     "output_type": "stream",
     "text": [
      "\n",
      "\n",
      "\u001b[1m> Entering new ConversationChain chain...\u001b[0m\n",
      "Prompt after formatting:\n",
      "\u001b[32;1m\u001b[1;3mThe following is a friendly conversation between a human and an AI. The AI is talkative and provides lots of specific details from its context. If the AI does not know the answer to a question, it truthfully says it does not know.\n",
      "\n",
      "Current conversation:\n",
      "\n",
      "Human: Hi, my name is Mehdi\n",
      "AI:\u001b[0m\n",
      "\n",
      "\u001b[1m> Finished chain.\u001b[0m\n"
     ]
    },
    {
     "data": {
      "text/plain": [
       "\"Hello, Mehdi! It's great to meet you. My name doesn't have the same personal flair as yours—I'm just an AI—but I'm here to chat, help, and share all sorts of interesting things. How's your day going so far?\""
      ]
     },
     "execution_count": 7,
     "metadata": {},
     "output_type": "execute_result"
    }
   ],
   "source": [
    "conversation.predict(input=\"Hi, my name is Mehdi\")"
   ]
  },
  {
   "cell_type": "code",
   "execution_count": 8,
   "metadata": {},
   "outputs": [
    {
     "name": "stdout",
     "output_type": "stream",
     "text": [
      "\n",
      "\n",
      "\u001b[1m> Entering new ConversationChain chain...\u001b[0m\n",
      "Prompt after formatting:\n",
      "\u001b[32;1m\u001b[1;3mThe following is a friendly conversation between a human and an AI. The AI is talkative and provides lots of specific details from its context. If the AI does not know the answer to a question, it truthfully says it does not know.\n",
      "\n",
      "Current conversation:\n",
      "Human: Hi, my name is Mehdi\n",
      "AI: Hello, Mehdi! It's great to meet you. My name doesn't have the same personal flair as yours—I'm just an AI—but I'm here to chat, help, and share all sorts of interesting things. How's your day going so far?\n",
      "Human: 1+1\n",
      "AI:\u001b[0m\n",
      "\n",
      "\u001b[1m> Finished chain.\u001b[0m\n"
     ]
    },
    {
     "data": {
      "text/plain": [
       "\"Ah, the classic! 1 + 1 equals 2. It's one of the simplest and most fundamental equations in mathematics, yet it forms the basis for so much more complex math. Fun fact: in some abstract algebra systems, like Boolean algebra, 1 + 1 can actually equal 1! But in standard arithmetic, it's always 2. Anything else you'd like to explore?\""
      ]
     },
     "execution_count": 8,
     "metadata": {},
     "output_type": "execute_result"
    }
   ],
   "source": [
    "conversation.predict(input=\"1+1\")"
   ]
  },
  {
   "cell_type": "code",
   "execution_count": 9,
   "metadata": {},
   "outputs": [
    {
     "name": "stdout",
     "output_type": "stream",
     "text": [
      "\n",
      "\n",
      "\u001b[1m> Entering new ConversationChain chain...\u001b[0m\n",
      "Prompt after formatting:\n",
      "\u001b[32;1m\u001b[1;3mThe following is a friendly conversation between a human and an AI. The AI is talkative and provides lots of specific details from its context. If the AI does not know the answer to a question, it truthfully says it does not know.\n",
      "\n",
      "Current conversation:\n",
      "Human: Hi, my name is Mehdi\n",
      "AI: Hello, Mehdi! It's great to meet you. My name doesn't have the same personal flair as yours—I'm just an AI—but I'm here to chat, help, and share all sorts of interesting things. How's your day going so far?\n",
      "Human: 1+1\n",
      "AI: Ah, the classic! 1 + 1 equals 2. It's one of the simplest and most fundamental equations in mathematics, yet it forms the basis for so much more complex math. Fun fact: in some abstract algebra systems, like Boolean algebra, 1 + 1 can actually equal 1! But in standard arithmetic, it's always 2. Anything else you'd like to explore?\n",
      "Human: What is my name?\n",
      "AI:\u001b[0m\n",
      "\n",
      "\u001b[1m> Finished chain.\u001b[0m\n"
     ]
    },
    {
     "data": {
      "text/plain": [
       "\"Your name is Mehdi! You just introduced yourself a moment ago. I have a pretty good memory within our current conversation, so I’ll do my best to keep track of important details like that. 😊 Let me know if there’s anything else you'd like to talk about!\""
      ]
     },
     "execution_count": 9,
     "metadata": {},
     "output_type": "execute_result"
    }
   ],
   "source": [
    "conversation.predict(input=\"What is my name?\")"
   ]
  },
  {
   "cell_type": "code",
   "execution_count": 10,
   "metadata": {},
   "outputs": [
    {
     "name": "stdout",
     "output_type": "stream",
     "text": [
      "Human: Hi, my name is Mehdi\n",
      "AI: Hello, Mehdi! It's great to meet you. My name doesn't have the same personal flair as yours—I'm just an AI—but I'm here to chat, help, and share all sorts of interesting things. How's your day going so far?\n",
      "Human: 1+1\n",
      "AI: Ah, the classic! 1 + 1 equals 2. It's one of the simplest and most fundamental equations in mathematics, yet it forms the basis for so much more complex math. Fun fact: in some abstract algebra systems, like Boolean algebra, 1 + 1 can actually equal 1! But in standard arithmetic, it's always 2. Anything else you'd like to explore?\n",
      "Human: What is my name?\n",
      "AI: Your name is Mehdi! You just introduced yourself a moment ago. I have a pretty good memory within our current conversation, so I’ll do my best to keep track of important details like that. 😊 Let me know if there’s anything else you'd like to talk about!\n"
     ]
    }
   ],
   "source": [
    "print(memory.buffer)"
   ]
  },
  {
   "cell_type": "code",
   "execution_count": 11,
   "metadata": {},
   "outputs": [
    {
     "data": {
      "text/plain": [
       "{'history': \"Human: Hi, my name is Mehdi\\nAI: Hello, Mehdi! It's great to meet you. My name doesn't have the same personal flair as yours—I'm just an AI—but I'm here to chat, help, and share all sorts of interesting things. How's your day going so far?\\nHuman: 1+1\\nAI: Ah, the classic! 1 + 1 equals 2. It's one of the simplest and most fundamental equations in mathematics, yet it forms the basis for so much more complex math. Fun fact: in some abstract algebra systems, like Boolean algebra, 1 + 1 can actually equal 1! But in standard arithmetic, it's always 2. Anything else you'd like to explore?\\nHuman: What is my name?\\nAI: Your name is Mehdi! You just introduced yourself a moment ago. I have a pretty good memory within our current conversation, so I’ll do my best to keep track of important details like that. 😊 Let me know if there’s anything else you'd like to talk about!\"}"
      ]
     },
     "execution_count": 11,
     "metadata": {},
     "output_type": "execute_result"
    }
   ],
   "source": [
    "memory.load_memory_variables({})"
   ]
  },
  {
   "cell_type": "code",
   "execution_count": 12,
   "metadata": {},
   "outputs": [],
   "source": [
    "memory.save_context({\"Input\" : \"thi is a new entry to the memeor\"}, {\"Output\" : \"ok just added to the memory\"})"
   ]
  },
  {
   "cell_type": "code",
   "execution_count": 14,
   "metadata": {},
   "outputs": [
    {
     "name": "stdout",
     "output_type": "stream",
     "text": [
      "Human: Hi, my name is Mehdi\n",
      "AI: Hello, Mehdi! It's great to meet you. My name doesn't have the same personal flair as yours—I'm just an AI—but I'm here to chat, help, and share all sorts of interesting things. How's your day going so far?\n",
      "Human: 1+1\n",
      "AI: Ah, the classic! 1 + 1 equals 2. It's one of the simplest and most fundamental equations in mathematics, yet it forms the basis for so much more complex math. Fun fact: in some abstract algebra systems, like Boolean algebra, 1 + 1 can actually equal 1! But in standard arithmetic, it's always 2. Anything else you'd like to explore?\n",
      "Human: What is my name?\n",
      "AI: Your name is Mehdi! You just introduced yourself a moment ago. I have a pretty good memory within our current conversation, so I’ll do my best to keep track of important details like that. 😊 Let me know if there’s anything else you'd like to talk about!\n",
      "Human: thi is a new entry to the memeor\n",
      "AI: ok just added to the memory\n"
     ]
    }
   ],
   "source": [
    "print(memory.buffer)"
   ]
  },
  {
   "cell_type": "code",
   "execution_count": null,
   "metadata": {},
   "outputs": [],
   "source": []
  }
 ],
 "metadata": {
  "kernelspec": {
   "display_name": "miniproj",
   "language": "python",
   "name": "python3"
  },
  "language_info": {
   "codemirror_mode": {
    "name": "ipython",
    "version": 3
   },
   "file_extension": ".py",
   "mimetype": "text/x-python",
   "name": "python",
   "nbconvert_exporter": "python",
   "pygments_lexer": "ipython3",
   "version": "3.13.0"
  }
 },
 "nbformat": 4,
 "nbformat_minor": 2
}
