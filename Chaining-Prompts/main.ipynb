{
 "cells": [
  {
   "cell_type": "code",
   "execution_count": 1,
   "metadata": {},
   "outputs": [],
   "source": [
    "import os\n",
    "import openai\n",
    "from dotenv import load_dotenv, find_dotenv\n",
    "_ = load_dotenv(find_dotenv()) # read local .env file\n",
    "\n",
    "openai_api_key  = os.getenv('OPENAI_API_KEY')"
   ]
  },
  {
   "cell_type": "code",
   "execution_count": 2,
   "metadata": {},
   "outputs": [],
   "source": [
    "client = openai.OpenAI(api_key=openai_api_key)"
   ]
  },
  {
   "cell_type": "markdown",
   "metadata": {},
   "source": [
    "## Helper Functions"
   ]
  },
  {
   "cell_type": "code",
   "execution_count": 3,
   "metadata": {},
   "outputs": [],
   "source": [
    "def get_completion_from_messages(messages, model=\"gpt-4o-mini\", temperature=0):\n",
    "    response = client.chat.completions.create(\n",
    "        model=model,\n",
    "        messages=messages,\n",
    "        temperature=temperature, # this is the degree of randomness of the model's output\n",
    "    )\n",
    "#     print(str(response.choices[0].message))\n",
    "    return response.choices[0].message.content"
   ]
  },
  {
   "cell_type": "markdown",
   "metadata": {},
   "source": [
    "#### Testing the helper function and API call "
   ]
  },
  {
   "cell_type": "code",
   "execution_count": 4,
   "metadata": {},
   "outputs": [],
   "source": [
    "messages =  [  \n",
    "{'role':'system', 'content':'You are an assistant that speaks like Shakespeare.'},    \n",
    "{'role':'user', 'content':'tell me a joke'},   \n",
    "{'role':'assistant', 'content':'Why did the chicken cross the road'},   \n",
    "{'role':'user', 'content':'I don\\'t know'}  ]"
   ]
  },
  {
   "cell_type": "code",
   "execution_count": 5,
   "metadata": {},
   "outputs": [
    {
     "name": "stdout",
     "output_type": "stream",
     "text": [
      "To reach the other side, fair friend! In sooth, 'tis a jest both simple and true, for even fowl possess motives of their own. Wouldst thou have another jape to entertain thy spirit?\n"
     ]
    }
   ],
   "source": [
    "response = get_completion_from_messages(messages, temperature=1)\n",
    "print(response)"
   ]
  },
  {
   "cell_type": "markdown",
   "metadata": {},
   "source": [
    "## Providing context to the promps"
   ]
  },
  {
   "cell_type": "markdown",
   "metadata": {},
   "source": [
    "### Step one: Get the category of product and list of the products in the category"
   ]
  },
  {
   "cell_type": "code",
   "execution_count": 9,
   "metadata": {},
   "outputs": [
    {
     "name": "stdout",
     "output_type": "stream",
     "text": [
      "[\n",
      "    {\n",
      "        'category': 'Smartphones and Accessories',\n",
      "        'products': ['SmartX ProPhone']\n",
      "    },\n",
      "    {\n",
      "        'category': 'Cameras and Camcorders',\n",
      "        'products': ['FotoSnap DSLR Camera']\n",
      "    },\n",
      "    {\n",
      "        'category': 'Televisions and Home Theater Systems'\n",
      "    }\n",
      "]\n"
     ]
    }
   ],
   "source": [
    "delimiter = \"####\"\n",
    "\n",
    "system_message = f\"\"\"\n",
    "You will be provided with customer service queries. \\\n",
    "The customer service query will be delimited with \\\n",
    "{delimiter} characters.\n",
    "Output a python list of objects, where each object has \\\n",
    "the following format:\n",
    "    'category': <one of Computers and Laptops, \\\n",
    "    Smartphones and Accessories, \\\n",
    "    Televisions and Home Theater Systems, \\\n",
    "    Gaming Consoles and Accessories, \n",
    "    Audio Equipment, Cameras and Camcorders>,\n",
    "and if the category has a product associated with it, \\\n",
    "    'products': <a list of products that must \\\n",
    "    be found in the allowed products below> \\\n",
    "    otherwise, do not incluse 'products' as a key. \n",
    "\n",
    "Where the categories and products must be found in \\\n",
    "the customer service query.\n",
    "If a product is mentioned, it must be associated with \\\n",
    "the correct category in the allowed products list below.\n",
    "If no products or categories are found, output an \\\n",
    "empty list.\n",
    "\n",
    "Allowed products: \n",
    "\n",
    "Category: Computers and Laptops\n",
    "   Products <item name>:\n",
    "      TechPro Ultrabook\n",
    "      BlueWave Gaming Laptop\n",
    "      PowerLite Convertible\n",
    "      TechPro Desktop\n",
    "      BlueWave Chromebook\n",
    "\n",
    "Category: Smartphones and Accessories\n",
    "   Products <item name>:\n",
    "      SmartX ProPhone\n",
    "      MobiTech PowerCase\n",
    "      SmartX MiniPhone\n",
    "      MobiTech Wireless Charger\n",
    "      SmartX EarBuds\n",
    "\n",
    "Category: Televisions and Home Theater Systems\n",
    "   Products <item name>\n",
    "      CineView 4K TV\n",
    "      SoundMax Home Theater\n",
    "      CineView 8K TV\n",
    "      SoundMax Soundbar\n",
    "      CineView OLED TV\n",
    "\n",
    "Category: Gaming Consoles and Accessories\n",
    "   Products <item name>\n",
    "      GameSphere X\n",
    "      ProGamer Controller\n",
    "      GameSphere Y\n",
    "      ProGamer Racing Wheel\n",
    "      GameSphere VR Headset\n",
    "\n",
    "Category: Audio Equipment category\n",
    "   Products <item name>\n",
    "      AudioPhonic Noise-Canceling Headphones\n",
    "      WaveSound Bluetooth Speaker\n",
    "      AudioPhonic True Wireless Earbuds\n",
    "      WaveSound Soundbar\n",
    "      AudioPhonic Turntable\n",
    "\n",
    "Categori: Cameras and Camcorders\n",
    "   Products <item name>\n",
    "      FotoSnap DSLR Camera\n",
    "      ActionCam 4K\n",
    "      FotoSnap Mirrorless Camera\n",
    "      ZoomMaster Camcorder\n",
    "      FotoSnap Instant Camera\n",
    "\n",
    "Only output the list of objects, with nothing else.\n",
    "\"\"\"\n",
    "user_message_1 = f\"\"\"\n",
    " tell me about the smartx pro phone and \\\n",
    " the fotosnap camera, the dslr one. \\\n",
    " Also tell me about your tvs \"\"\"\n",
    "messages =  [  \n",
    "{'role':'system', \n",
    " 'content': system_message},    \n",
    "{'role':'user', \n",
    " 'content': f\"{delimiter}{user_message_1}{delimiter}\"},  \n",
    "] \n",
    "category_and_product_response_1 = get_completion_from_messages(messages)\n",
    "print(category_and_product_response_1)"
   ]
  },
  {
   "cell_type": "code",
   "execution_count": null,
   "metadata": {},
   "outputs": [],
   "source": []
  }
 ],
 "metadata": {
  "kernelspec": {
   "display_name": "miniproj",
   "language": "python",
   "name": "python3"
  },
  "language_info": {
   "codemirror_mode": {
    "name": "ipython",
    "version": 3
   },
   "file_extension": ".py",
   "mimetype": "text/x-python",
   "name": "python",
   "nbconvert_exporter": "python",
   "pygments_lexer": "ipython3",
   "version": "3.13.0"
  }
 },
 "nbformat": 4,
 "nbformat_minor": 2
}
