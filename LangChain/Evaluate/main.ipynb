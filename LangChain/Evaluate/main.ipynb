{
 "cells": [
  {
   "cell_type": "code",
   "execution_count": 1,
   "metadata": {},
   "outputs": [],
   "source": [
    "import os\n",
    "import textwrap\n",
    "from langchain.chains import RetrievalQA\n",
    "from langchain.document_loaders import CSVLoader\n",
    "from langchain.vectorstores import DocArrayInMemorySearch\n",
    "from IPython.display import display, Markdown"
   ]
  },
  {
   "cell_type": "code",
   "execution_count": 2,
   "metadata": {},
   "outputs": [
    {
     "name": "stdout",
     "output_type": "stream",
     "text": [
      "Using Azure endpoint: https://summarilyazureopenai.openai.azure.com\n"
     ]
    },
    {
     "name": "stderr",
     "output_type": "stream",
     "text": [
      "/var/folders/py/lx68lx7s6sbcr2m9kwtspqvh0000gn/T/ipykernel_61597/118664839.py:18: LangChainDeprecationWarning: The method `BaseChatModel.__call__` was deprecated in langchain-core 0.1.7 and will be removed in 1.0. Use :meth:`~invoke` instead.\n",
      "  response = llm(prompt)\n"
     ]
    },
    {
     "name": "stdout",
     "output_type": "stream",
     "text": [
      "My training data cutoff date is **October 2023**. This means I was trained on information available up until that time, and I do not have knowledge of events, developments, or changes that occurred after that date. Let me know how I can assist you!\n"
     ]
    }
   ],
   "source": [
    "from dotenv import load_dotenv, find_dotenv\n",
    "load_dotenv(find_dotenv())\n",
    "\n",
    "from langchain_openai import ChatOpenAI, AzureChatOpenAI\n",
    "\n",
    "llm = AzureChatOpenAI(\n",
    "    max_tokens=16000,\n",
    "    temperature=0.0,\n",
    "    deployment_name=\"gpt-4o-b\",\n",
    "    model_name=\"gpt-4o\",\n",
    "    # deployment_name=\"gpt-35-turbo\",\n",
    "    # model_name=\"gpt-3.5-turbo\",\n",
    ")\n",
    "print(f'Using Azure endpoint: {llm.azure_endpoint}')\n",
    "\n",
    "# Test if LLM responds OK\n",
    "prompt = \"What is your training data cutoff date?\"\n",
    "response = llm(prompt)\n",
    "print(response.content)"
   ]
  },
  {
   "cell_type": "markdown",
   "metadata": {},
   "source": [
    "### QA Chain"
   ]
  },
  {
   "cell_type": "code",
   "execution_count": 3,
   "metadata": {},
   "outputs": [],
   "source": [
    "file = 'OutdoorClothingCatalog_1000.csv'\n",
    "loader = CSVLoader(file_path=file)\n",
    "docs = loader.load()"
   ]
  },
  {
   "cell_type": "code",
   "execution_count": 4,
   "metadata": {},
   "outputs": [
    {
     "name": "stderr",
     "output_type": "stream",
     "text": [
      "/var/folders/py/lx68lx7s6sbcr2m9kwtspqvh0000gn/T/ipykernel_61597/3486695070.py:2: LangChainDeprecationWarning: The class `AzureOpenAIEmbeddings` was deprecated in LangChain 0.0.9 and will be removed in 1.0. An updated version of the class exists in the :class:`~langchain-openai package and should be used instead. To use it run `pip install -U :class:`~langchain-openai` and import as `from :class:`~langchain_openai import AzureOpenAIEmbeddings``.\n",
      "  embeddings = AzureOpenAIEmbeddings(\n"
     ]
    },
    {
     "data": {
      "text/plain": [
       "1536"
      ]
     },
     "execution_count": 4,
     "metadata": {},
     "output_type": "execute_result"
    }
   ],
   "source": [
    "from langchain.embeddings import AzureOpenAIEmbeddings\n",
    "embeddings = AzureOpenAIEmbeddings(\n",
    "    deployment=\"text-embedding-3-small\",\n",
    "    chunk_size=1024)\n",
    "embed = embeddings.embed_query(\"Hi my name is Harrison\")\n",
    "len(embed)"
   ]
  },
  {
   "cell_type": "code",
   "execution_count": 5,
   "metadata": {},
   "outputs": [
    {
     "name": "stderr",
     "output_type": "stream",
     "text": [
      "/Users/mehdiazad/Documents/Projects/mini_projects/miniproj/lib/python3.13/site-packages/pydantic/_migration.py:283: UserWarning: `pydantic.error_wrappers:ValidationError` has been moved to `pydantic:ValidationError`.\n",
      "  warnings.warn(f'`{import_path}` has been moved to `{new_location}`.')\n"
     ]
    }
   ],
   "source": [
    "docs = docs[:500]  # Limit to 500 for testing\n",
    "db = DocArrayInMemorySearch.from_documents(docs, embeddings)"
   ]
  },
  {
   "cell_type": "code",
   "execution_count": 6,
   "metadata": {},
   "outputs": [],
   "source": [
    "retriever = db.as_retriever()"
   ]
  },
  {
   "cell_type": "code",
   "execution_count": 23,
   "metadata": {},
   "outputs": [],
   "source": [
    "qa = RetrievalQA.from_chain_type(\n",
    "    llm=llm, \n",
    "    chain_type=\"stuff\", \n",
    "    retriever=retriever, \n",
    "    verbose=True,\n",
    "    chain_type_kwargs = {\n",
    "        \"document_separator\": \"<<<<>>>>>\"\n",
    "    }\n",
    ")"
   ]
  },
  {
   "cell_type": "markdown",
   "metadata": {},
   "source": [
    "### Test data points: Manual generation"
   ]
  },
  {
   "cell_type": "code",
   "execution_count": 14,
   "metadata": {},
   "outputs": [
    {
     "name": "stdout",
     "output_type": "stream",
     "text": [
      ": 10 name: Cozy Comfort Pullover Set, Stripe description: Perfect for\n",
      "lounging, this striped knit set lives up to its name. We used\n",
      "ultrasoft fabric and an easy design that's as comfortable at bedtime\n",
      "as it is when we have to make a quick run out.  Size & Fit - Pants are\n",
      "Favorite Fit: Sits lower on the waist. - Relaxed Fit: Our most\n",
      "generous fit sits farthest from the body.  Fabric & Care - In the\n",
      "softest blend of 63% polyester, 35% rayon and 2% spandex.  Additional\n",
      "Features - Relaxed fit top with raglan sleeves and rounded hem. -\n",
      "Pull-on pants have a wide elastic waistband and drawstring, side\n",
      "pockets and a modern slim leg.  Imported.\n"
     ]
    }
   ],
   "source": [
    "print(\"\\n\".join(textwrap.wrap(docs[10].page_content)))"
   ]
  },
  {
   "cell_type": "code",
   "execution_count": 15,
   "metadata": {},
   "outputs": [
    {
     "name": "stdout",
     "output_type": "stream",
     "text": [
      ": 11 name: Ultra-Lofty 850 Stretch Down Hooded Jacket description:\n",
      "This technical stretch down jacket from our DownTek collection is sure\n",
      "to keep you warm and comfortable with its full-stretch construction\n",
      "providing exceptional range of motion. With a slightly fitted style\n",
      "that falls at the hip and best with a midweight layer, this jacket is\n",
      "suitable for light activity up to 20° and moderate activity up to\n",
      "-30°. The soft and durable 100% polyester shell offers complete\n",
      "windproof protection and is insulated with warm, lofty goose down.\n",
      "Other features include welded baffles for a no-stitch construction and\n",
      "excellent stretch, an adjustable hood, an interior media port and mesh\n",
      "stash pocket and a hem drawcord. Machine wash and dry. Imported.\n"
     ]
    }
   ],
   "source": [
    "print(\"\\n\".join(textwrap.wrap(docs[11].page_content)))"
   ]
  },
  {
   "cell_type": "code",
   "execution_count": 21,
   "metadata": {},
   "outputs": [],
   "source": [
    "examples = [\n",
    "    {\n",
    "        \"query\": \"Do the Cozy Comfort Pullover Set\\\n",
    "        have side pockets?\",\n",
    "        \"answer\": \"Yes\"\n",
    "    },\n",
    "    {\n",
    "        \"query\": \"What collection is the Ultra-Lofty \\\n",
    "        850 Stretch Down Hooded Jacket from?\",\n",
    "        \"answer\": \"The DownTek collection\"\n",
    "    }\n",
    "]"
   ]
  },
  {
   "cell_type": "markdown",
   "metadata": {},
   "source": [
    "### Test data points: LLM assisted generation"
   ]
  },
  {
   "cell_type": "code",
   "execution_count": 16,
   "metadata": {},
   "outputs": [],
   "source": [
    "from langchain.evaluation.qa import QAGenerateChain"
   ]
  },
  {
   "cell_type": "code",
   "execution_count": 17,
   "metadata": {},
   "outputs": [],
   "source": [
    "example_gen_chain = QAGenerateChain.from_llm(llm=llm)"
   ]
  },
  {
   "cell_type": "code",
   "execution_count": 18,
   "metadata": {},
   "outputs": [
    {
     "name": "stderr",
     "output_type": "stream",
     "text": [
      "/Users/mehdiazad/Documents/Projects/mini_projects/miniproj/lib/python3.13/site-packages/langchain/chains/llm.py:369: UserWarning: The apply_and_parse method is deprecated, instead pass an output parser directly to LLMChain.\n",
      "  warnings.warn(\n"
     ]
    }
   ],
   "source": [
    "new_examples = example_gen_chain.apply_and_parse(\n",
    "    [{\"doc\": t} for t in docs[:5]]\n",
    ")"
   ]
  },
  {
   "cell_type": "code",
   "execution_count": 19,
   "metadata": {},
   "outputs": [
    {
     "data": {
      "text/plain": [
       "[{'qa_pairs': {'query': \"What features contribute to the Women's Campside Oxfords' comfort and support, and what specific design elements are included in the shoe's construction?  \",\n",
       "   'answer': \"The Women's Campside Oxfords feature a soft canvas material for a broken-in feel and look, a comfortable EVA innersole with Cleansport NXT® antimicrobial odor control, and a moderate arch contour for added comfort. The EVA foam midsole provides cushioning and support, while the chain-tread-inspired molded rubber outsole with a modified chain-tread pattern enhances durability and traction.\"}},\n",
       " {'qa_pairs': {'query': 'What materials are used in the construction of the Recycled Waterhog Dog Mat, and what are its environmental benefits?  ',\n",
       "   'answer': 'The Recycled Waterhog Dog Mat is constructed with 24 oz. polyester fabric made from 94% recycled materials and features a rubber backing. Its environmental benefits include helping to keep plastic out of landfills, trails, and oceans by utilizing recycled plastic materials in its construction.'}}]"
      ]
     },
     "execution_count": 19,
     "metadata": {},
     "output_type": "execute_result"
    }
   ],
   "source": [
    "new_examples[:2]"
   ]
  },
  {
   "cell_type": "markdown",
   "metadata": {},
   "source": [
    "### Combine examples"
   ]
  },
  {
   "cell_type": "code",
   "execution_count": 22,
   "metadata": {},
   "outputs": [],
   "source": [
    "examples += new_examples"
   ]
  },
  {
   "cell_type": "code",
   "execution_count": 24,
   "metadata": {},
   "outputs": [
    {
     "name": "stderr",
     "output_type": "stream",
     "text": [
      "/var/folders/py/lx68lx7s6sbcr2m9kwtspqvh0000gn/T/ipykernel_61597/1223946598.py:1: LangChainDeprecationWarning: The method `Chain.run` was deprecated in langchain 0.1.0 and will be removed in 1.0. Use :meth:`~invoke` instead.\n",
      "  qa.run(examples[0][\"query\"])\n"
     ]
    },
    {
     "name": "stdout",
     "output_type": "stream",
     "text": [
      "\n",
      "\n",
      "\u001b[1m> Entering new RetrievalQA chain...\u001b[0m\n",
      "\n",
      "\u001b[1m> Finished chain.\u001b[0m\n"
     ]
    },
    {
     "data": {
      "text/plain": [
       "'Yes, the Cozy Comfort Pullover Set pants have side pockets.'"
      ]
     },
     "execution_count": 24,
     "metadata": {},
     "output_type": "execute_result"
    }
   ],
   "source": [
    "qa.run(examples[0][\"query\"])"
   ]
  },
  {
   "cell_type": "code",
   "execution_count": null,
   "metadata": {},
   "outputs": [],
   "source": []
  }
 ],
 "metadata": {
  "kernelspec": {
   "display_name": "miniproj",
   "language": "python",
   "name": "python3"
  },
  "language_info": {
   "codemirror_mode": {
    "name": "ipython",
    "version": 3
   },
   "file_extension": ".py",
   "mimetype": "text/x-python",
   "name": "python",
   "nbconvert_exporter": "python",
   "pygments_lexer": "ipython3",
   "version": "3.13.0"
  }
 },
 "nbformat": 4,
 "nbformat_minor": 2
}
