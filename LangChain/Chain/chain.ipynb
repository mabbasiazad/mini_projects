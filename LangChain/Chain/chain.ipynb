{
 "cells": [
  {
   "cell_type": "markdown",
   "metadata": {},
   "source": [
    "#### Note: read model-prompt-parser.ipynb first before reading this notebook."
   ]
  },
  {
   "cell_type": "code",
   "execution_count": 58,
   "metadata": {},
   "outputs": [],
   "source": [
    "import json\n",
    "import textwrap"
   ]
  },
  {
   "cell_type": "markdown",
   "metadata": {},
   "source": [
    "## Initialize LLM"
   ]
  },
  {
   "cell_type": "code",
   "execution_count": 4,
   "metadata": {},
   "outputs": [
    {
     "name": "stdout",
     "output_type": "stream",
     "text": [
      "Using Azure endpoint: https://summarilyazureopenai.openai.azure.com\n"
     ]
    }
   ],
   "source": [
    "import dotenv\n",
    "dotenv.load_dotenv()\n",
    "from langchain_openai import ChatOpenAI, AzureChatOpenAI\n",
    "\n",
    "llm = AzureChatOpenAI(\n",
    "    max_tokens=16000,\n",
    "    temperature=0.5,\n",
    "    deployment_name=\"gpt-4o-b\",\n",
    "    model_name=\"gpt-4o\",\n",
    "    # deployment_name=\"gpt-35-turbo\",\n",
    "    # model_name=\"gpt-3.5-turbo\",\n",
    ")\n",
    "print(f'Using Azure endpoint: {llm.azure_endpoint}')"
   ]
  },
  {
   "cell_type": "code",
   "execution_count": 5,
   "metadata": {},
   "outputs": [
    {
     "name": "stdout",
     "output_type": "stream",
     "text": [
      "My training data cutoff date is **October 2021**. This means I was trained on information available up until that time, and I don't have knowledge of events, developments, or data created or released after that date. Let me know if you have any questions!\n"
     ]
    }
   ],
   "source": [
    "# Test if LLM responds OK\n",
    "prompt = \"What is your training data cutoff date?\"\n",
    "response = llm(prompt)\n",
    "print(response.content)"
   ]
  },
  {
   "cell_type": "markdown",
   "metadata": {},
   "source": [
    "## Importing Data"
   ]
  },
  {
   "cell_type": "code",
   "execution_count": 7,
   "metadata": {},
   "outputs": [],
   "source": [
    "import pandas as pd\n",
    "df = pd.read_csv(\"Data.csv\")"
   ]
  },
  {
   "cell_type": "code",
   "execution_count": 8,
   "metadata": {},
   "outputs": [
    {
     "data": {
      "text/html": [
       "<div>\n",
       "<style scoped>\n",
       "    .dataframe tbody tr th:only-of-type {\n",
       "        vertical-align: middle;\n",
       "    }\n",
       "\n",
       "    .dataframe tbody tr th {\n",
       "        vertical-align: top;\n",
       "    }\n",
       "\n",
       "    .dataframe thead th {\n",
       "        text-align: right;\n",
       "    }\n",
       "</style>\n",
       "<table border=\"1\" class=\"dataframe\">\n",
       "  <thead>\n",
       "    <tr style=\"text-align: right;\">\n",
       "      <th></th>\n",
       "      <th>Product</th>\n",
       "      <th>Review</th>\n",
       "    </tr>\n",
       "  </thead>\n",
       "  <tbody>\n",
       "    <tr>\n",
       "      <th>0</th>\n",
       "      <td>Queen Size Sheet Set</td>\n",
       "      <td>I ordered a king size set. My only criticism w...</td>\n",
       "    </tr>\n",
       "    <tr>\n",
       "      <th>1</th>\n",
       "      <td>Waterproof Phone Pouch</td>\n",
       "      <td>I loved the waterproof sac, although the openi...</td>\n",
       "    </tr>\n",
       "    <tr>\n",
       "      <th>2</th>\n",
       "      <td>Luxury Air Mattress</td>\n",
       "      <td>This mattress had a small hole in the top of i...</td>\n",
       "    </tr>\n",
       "    <tr>\n",
       "      <th>3</th>\n",
       "      <td>Pillows Insert</td>\n",
       "      <td>This is the best throw pillow fillers on Amazo...</td>\n",
       "    </tr>\n",
       "    <tr>\n",
       "      <th>4</th>\n",
       "      <td>Milk Frother Handheld\\n</td>\n",
       "      <td>I loved this product. But they only seem to l...</td>\n",
       "    </tr>\n",
       "  </tbody>\n",
       "</table>\n",
       "</div>"
      ],
      "text/plain": [
       "                   Product                                             Review\n",
       "0     Queen Size Sheet Set  I ordered a king size set. My only criticism w...\n",
       "1   Waterproof Phone Pouch  I loved the waterproof sac, although the openi...\n",
       "2      Luxury Air Mattress  This mattress had a small hole in the top of i...\n",
       "3           Pillows Insert  This is the best throw pillow fillers on Amazo...\n",
       "4  Milk Frother Handheld\\n   I loved this product. But they only seem to l..."
      ]
     },
     "execution_count": 8,
     "metadata": {},
     "output_type": "execute_result"
    }
   ],
   "source": [
    "df.head()"
   ]
  },
  {
   "cell_type": "markdown",
   "metadata": {},
   "source": [
    "## LangChain Chains"
   ]
  },
  {
   "cell_type": "markdown",
   "metadata": {},
   "source": [
    "### 1. LMChain"
   ]
  },
  {
   "cell_type": "code",
   "execution_count": 9,
   "metadata": {},
   "outputs": [],
   "source": [
    "from langchain.prompts import ChatPromptTemplate\n",
    "from langchain.chains import LLMChain"
   ]
  },
  {
   "cell_type": "code",
   "execution_count": 22,
   "metadata": {},
   "outputs": [],
   "source": [
    "template_string = \"What is the best name to describe a company that makes {product}? \\\n",
    "    answer in one name which you think is the best\"\n",
    "prompt = ChatPromptTemplate.from_template(template_string)"
   ]
  },
  {
   "cell_type": "code",
   "execution_count": 23,
   "metadata": {},
   "outputs": [],
   "source": [
    "chain = LLMChain(llm=llm, prompt=prompt)"
   ]
  },
  {
   "cell_type": "code",
   "execution_count": 24,
   "metadata": {},
   "outputs": [
    {
     "name": "stdout",
     "output_type": "stream",
     "text": [
      "AquaShield\n"
     ]
    }
   ],
   "source": [
    "product = \"Waterproof Phone Pouch\"\n",
    "response = chain(product)\n",
    "print(response[\"text\"])"
   ]
  },
  {
   "cell_type": "markdown",
   "metadata": {},
   "source": [
    "### 2. SimpleSiquentialChain"
   ]
  },
  {
   "cell_type": "code",
   "execution_count": 31,
   "metadata": {},
   "outputs": [],
   "source": [
    "from langchain.chains import SimpleSequentialChain"
   ]
  },
  {
   "cell_type": "code",
   "execution_count": 27,
   "metadata": {},
   "outputs": [],
   "source": [
    "llm = AzureChatOpenAI(max_tokens=16000, temperature=0.5, \n",
    "                      deployment_name=\"gpt-4o-b\", model_name=\"gpt-4o\")"
   ]
  },
  {
   "cell_type": "code",
   "execution_count": 29,
   "metadata": {},
   "outputs": [],
   "source": [
    "# prompt template 1\n",
    "first_prompt = ChatPromptTemplate.from_template(\n",
    "    \"What is the best name to describe \\\n",
    "    a company that makes {product}?\"\n",
    ")\n",
    "\n",
    "# Chain 1\n",
    "chain_one = LLMChain(llm=llm, prompt=first_prompt)"
   ]
  },
  {
   "cell_type": "code",
   "execution_count": 30,
   "metadata": {},
   "outputs": [],
   "source": [
    "# prompt template 2\n",
    "second_prompt = ChatPromptTemplate.from_template(\n",
    "    \"Write a 20 words description for the following \\\n",
    "    company:{company_name}\"\n",
    ")\n",
    "# chain 2\n",
    "chain_two = LLMChain(llm=llm, prompt=second_prompt)"
   ]
  },
  {
   "cell_type": "code",
   "execution_count": 33,
   "metadata": {},
   "outputs": [],
   "source": [
    "overall_simple_chain = SimpleSequentialChain(chains = [chain_one, chain_two], verbose=True)"
   ]
  },
  {
   "cell_type": "code",
   "execution_count": 37,
   "metadata": {},
   "outputs": [
    {
     "name": "stdout",
     "output_type": "stream",
     "text": [
      "\n",
      "\n",
      "\u001b[1m> Entering new SimpleSequentialChain chain...\u001b[0m\n",
      "\u001b[36;1m\u001b[1;3mChoosing the best name for a company that makes waterproof phone pouches depends on your brand identity, target audience, and the message you want to convey. Here are some ideas that combine creativity, clarity, and relevance:\n",
      "\n",
      "### Functional & Descriptive Names:\n",
      "1. **AquaGuard**\n",
      "2. **HydroShield**\n",
      "3. **DryPocket**\n",
      "4. **WaterSafe**\n",
      "5. **AquaVault**\n",
      "6. **SealTech**\n",
      "7. **HydroLock**\n",
      "8. **DryDock Gear**\n",
      "9. **PhoneFloat**\n",
      "10. **AquaArmor**\n",
      "\n",
      "### Modern & Trendy Names:\n",
      "1. **SplashProof**\n",
      "2. **WaveSafe**\n",
      "3. **DriftCase**\n",
      "4. **FloatSafe**\n",
      "5. **AquaWrap**\n",
      "6. **HydroCase**\n",
      "7. **OceanSeal**\n",
      "8. **BlueBarrier**\n",
      "9. **LiquidLock**\n",
      "10. **StreamShield**\n",
      "\n",
      "### Adventure-Inspired Names:\n",
      "1. **NomadDry**\n",
      "2. **AquaTrail**\n",
      "3. **WetProof Gear**\n",
      "4. **TideSafe**\n",
      "5. **AdventureSeal**\n",
      "6. **HydroVenture**\n",
      "7. **OceanProof**\n",
      "8. **GearFloat**\n",
      "9. **Voyager Pouch**\n",
      "10. **ExplorerDry**\n",
      "\n",
      "### Minimalist & Elegant Names:\n",
      "1. **AquaPod**\n",
      "2. **DryZone**\n",
      "3. **Hydra**\n",
      "4. **PureSeal**\n",
      "5. **Float**\n",
      "6. **DrySphere**\n",
      "7. **WaterLock**\n",
      "8. **AquaEdge**\n",
      "9. **ClearSeal**\n",
      "10. **AquaPro**\n",
      "\n",
      "### Tips for Choosing the Best Name:\n",
      "- **Keep it Simple**: A name that's easy to say, spell, and remember will resonate more with your audience.\n",
      "- **Highlight Benefits**: Words like \"dry,\" \"safe,\" \"seal,\" and \"waterproof\" emphasize the product's value.\n",
      "- **Think Globally**: If you plan to expand internationally, ensure the name works well in different languages.\n",
      "- **Check Availability**: Verify that the domain name and social media handles are available for your chosen name.\n",
      "\n",
      "Let me know if you'd like more suggestions or help narrowing down your options!\u001b[0m\n",
      "\u001b[33;1m\u001b[1;3m\"Designing innovative waterproof phone pouches, we combine style, durability, and functionality to protect your devices during every adventure.\"\u001b[0m\n",
      "\n",
      "\u001b[1m> Finished chain.\u001b[0m\n",
      "\"Designing innovative waterproof phone pouches, we combine style, durability, and functionality to protect your devices during every adventure.\"\n"
     ]
    }
   ],
   "source": [
    "response = overall_simple_chain(\"Waterproof Phone Pouch\")\n",
    "print(response[\"output\"])"
   ]
  },
  {
   "cell_type": "markdown",
   "metadata": {},
   "source": [
    "### 3. SequentialChain"
   ]
  },
  {
   "cell_type": "code",
   "execution_count": 44,
   "metadata": {},
   "outputs": [],
   "source": [
    "from langchain.chains import SequentialChain"
   ]
  },
  {
   "cell_type": "code",
   "execution_count": 52,
   "metadata": {},
   "outputs": [],
   "source": [
    "first_prompt = ChatPromptTemplate.from_template(\"Translate the followin review to \\\n",
    "                                                English: \\n\\n{Review}\")\n",
    "\n",
    "chain_one = LLMChain(llm=llm, prompt=first_prompt, output_key=\"English_Review\")"
   ]
  },
  {
   "cell_type": "code",
   "execution_count": 53,
   "metadata": {},
   "outputs": [],
   "source": [
    "second_prompt = ChatPromptTemplate.from_template(\"Summerize the following review in one sentence \\\n",
    "                                                \\n\\n{English_Review}\")\n",
    "\n",
    "chain_two = LLMChain(llm=llm, prompt=second_prompt, output_key=\"summary\")"
   ]
  },
  {
   "cell_type": "code",
   "execution_count": 54,
   "metadata": {},
   "outputs": [],
   "source": [
    "# prompt template 3: translate to english\n",
    "third_prompt = ChatPromptTemplate.from_template(\n",
    "    \"What language is the following review:\\n\\n{Review}\"\n",
    ")\n",
    "# chain 3: input= Review and output= language\n",
    "chain_three = LLMChain(llm=llm, prompt=third_prompt,\n",
    "                       output_key=\"language\"\n",
    "                      )"
   ]
  },
  {
   "cell_type": "code",
   "execution_count": 55,
   "metadata": {},
   "outputs": [],
   "source": [
    "\n",
    "# prompt template 4: follow up message\n",
    "fourth_prompt = ChatPromptTemplate.from_template(\n",
    "    \"Write a follow up response to the following \"\n",
    "    \"summary in the specified language:\"\n",
    "    \"\\n\\nSummary: {summary}\\n\\nLanguage: {language}\"\n",
    ")\n",
    "# chain 4: input= summary, language and output= followup_message\n",
    "chain_four = LLMChain(llm=llm, prompt=fourth_prompt,\n",
    "                      output_key=\"followup_message\"\n",
    "                     )"
   ]
  },
  {
   "cell_type": "code",
   "execution_count": 56,
   "metadata": {},
   "outputs": [],
   "source": [
    "overall_chain = SequentialChain(chains=[chain_one, chain_two, chain_three, chain_four], \n",
    "                                input_variables=[\"Review\"],\n",
    "                                output_variables=[\"English_Review\", \"summary\", \"language\", \"followup_message\"],\n",
    "                                verbose=True)"
   ]
  },
  {
   "cell_type": "code",
   "execution_count": 72,
   "metadata": {},
   "outputs": [
    {
     "name": "stdout",
     "output_type": "stream",
     "text": [
      "\n",
      "\n",
      "\u001b[1m> Entering new SequentialChain chain...\u001b[0m\n",
      "\n",
      "\u001b[1m> Finished chain.\u001b[0m\n"
     ]
    }
   ],
   "source": [
    "sampple_review = df.Review[5]\n",
    "response = overall_chain(sampple_review)"
   ]
  },
  {
   "cell_type": "code",
   "execution_count": 73,
   "metadata": {},
   "outputs": [
    {
     "name": "stdout",
     "output_type": "stream",
     "text": [
      "Review: \n",
      " Je trouve le goût médiocre. La mousse ne tient pas, c'est bizarre.\n",
      "J'achète les mêmes dans le commerce et le goût est bien meilleur...\n",
      "Vieux lot ou contrefaçon !? \n",
      "\n",
      "English_Review: \n",
      " I find the taste mediocre. The foam doesn't hold, which is strange. I\n",
      "buy the same ones in stores, and the taste is much better...   Old\n",
      "batch or counterfeit!? \n",
      "\n",
      "summary: \n",
      " The reviewer finds the taste mediocre, the foam unstable, and suspects\n",
      "the product might be an old batch or counterfeit compared to better-\n",
      "quality store-bought versions. \n",
      "\n",
      "language: \n",
      " Le commentaire est en **français**. \n",
      "\n",
      "followup_message: \n",
      " Merci pour votre retour détaillé. Nous sommes désolés d'apprendre que\n",
      "le produit n'a pas répondu à vos attentes. La qualité est une priorité\n",
      "pour nous, et nous prenons vos remarques très au sérieux. Concernant\n",
      "vos doutes sur la fraîcheur ou l'authenticité du produit, pourriez-\n",
      "vous nous fournir plus de détails, comme le numéro de lot ou la date\n",
      "d'expiration indiquée sur l'emballage ? Cela nous permettra de mener\n",
      "une enquête approfondie. Nous aimerions également en savoir plus sur\n",
      "vos attentes concernant le goût et la texture pour mieux répondre à\n",
      "vos besoins à l'avenir. Votre satisfaction est importante pour nous,\n",
      "et nous espérons avoir l'opportunité de vous offrir une meilleure\n",
      "expérience. \n",
      "\n"
     ]
    }
   ],
   "source": [
    "for key, value in response.items():\n",
    "    value = \"\\n\".join(textwrap.wrap(value))\n",
    "    print(f\"{key}: \\n {value} \\n\")"
   ]
  },
  {
   "cell_type": "code",
   "execution_count": null,
   "metadata": {},
   "outputs": [],
   "source": []
  }
 ],
 "metadata": {
  "kernelspec": {
   "display_name": "miniproj",
   "language": "python",
   "name": "python3"
  },
  "language_info": {
   "codemirror_mode": {
    "name": "ipython",
    "version": 3
   },
   "file_extension": ".py",
   "mimetype": "text/x-python",
   "name": "python",
   "nbconvert_exporter": "python",
   "pygments_lexer": "ipython3",
   "version": "3.13.0"
  }
 },
 "nbformat": 4,
 "nbformat_minor": 2
}
